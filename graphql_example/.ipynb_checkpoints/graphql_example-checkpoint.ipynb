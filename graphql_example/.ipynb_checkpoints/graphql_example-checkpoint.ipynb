{
 "cells": [
  {
   "cell_type": "code",
   "execution_count": null,
   "metadata": {
    "ExecuteTime": {
     "end_time": "2018-01-25T16:58:31.922499Z",
     "start_time": "2018-01-25T16:58:30.787158Z"
    }
   },
   "outputs": [],
   "source": [
    "from contextlib import contextmanager\n",
    "\n",
    "from aiohttp import web\n",
    "from aiohttp_graphql import GraphQLView\n",
    "import graphene\n",
    "from eliot import start_action\n",
    "import eliot\n",
    "\n",
    "# set up log\n",
    "eliot.to_file(open('log.json', 'w'))\n",
    "\n",
    "# initialize app\n",
    "app = web.Application()\n",
    "routes = web.RouteTableDef()"
   ]
  },
  {
   "cell_type": "code",
   "execution_count": null,
   "metadata": {
    "ExecuteTime": {
     "end_time": "2018-01-25T16:58:31.944664Z",
     "start_time": "2018-01-25T16:58:31.925076Z"
    }
   },
   "outputs": [],
   "source": [
    "@contextmanager\n",
    "def log_action(action_type, **kwargs):\n",
    "    \"\"\"A simple wrapper over eliot.start_action to make things less verbose.\"\"\"\n",
    "    with start_action(action_type=action_type, **kwargs):\n",
    "        yield\n",
    "\n",
    "\n",
    "@contextmanager\n",
    "def log_inbound_request(request, **kwargs):\n",
    "    \"\"\"A logging shortcut for when we receive requests.\"\"\"\n",
    "    with log_action(\n",
    "        'inbound request',\n",
    "        \n",
    "        method=request.method,\n",
    "        resource=str(request.rel_url),\n",
    "        https_enable=request.secure,\n",
    "        from_ip=request.remote,\n",
    "        \n",
    "        **kwargs\n",
    "    ):\n",
    "        yield"
   ]
  },
  {
   "cell_type": "code",
   "execution_count": null,
   "metadata": {
    "ExecuteTime": {
     "end_time": "2018-01-25T16:58:32.018121Z",
     "start_time": "2018-01-25T16:58:31.948155Z"
    }
   },
   "outputs": [],
   "source": [
    "@routes.get('/')\n",
    "async def index(request):\n",
    "    \"\"\"Redirect to greet route.\"\"\"\n",
    "    with log_inbound_request(request):\n",
    "        \n",
    "        url = request.app.router['greet'].url_for(name='you')\n",
    "        \n",
    "        with log_action('redirect', to_url=str(url)):\n",
    "            \n",
    "            return web.HTTPFound(url)\n",
    "\n",
    "\n",
    "@routes.get('/greet/{name}', name='greet')\n",
    "async def greet(request):\n",
    "    \"\"\"Say hello.\"\"\"\n",
    "    with log_inbound_request(request):\n",
    "        \n",
    "        name = request.match_info.get('name', 'anonymous')\n",
    "                \n",
    "        with log_action('sending response'):\n",
    "            \n",
    "            return web.Response(\n",
    "                text=f'<html><h2>Hello {name}!</h2><html>',\n",
    "                content_type='Content-Type: text/html'\n",
    "            )\n",
    "            \n",
    "            \n",
    "@routes.get('/sitemap', name='sitemap')\n",
    "async def sitemap(request):\n",
    "    \"\"\"Not a real sitemap, but good enough.\"\"\"\n",
    "    with log_inbound_request(request):\n",
    "        resources = '\\n'.join(map(str, request.app.router.resources()))\n",
    "        return web.Response(text=resources)"
   ]
  },
  {
   "cell_type": "code",
   "execution_count": null,
   "metadata": {
    "ExecuteTime": {
     "end_time": "2018-01-25T16:58:32.078165Z",
     "start_time": "2018-01-25T16:58:32.025359Z"
    }
   },
   "outputs": [],
   "source": [
    "class Query(graphene.ObjectType):\n",
    "    hello = graphene.String(description='A typical hello world')\n",
    "\n",
    "    def resolve_hello(self, info):\n",
    "        return 'World'\n",
    "\n",
    "schema = graphene.Schema(query=Query)\n",
    "\n",
    "query = '''\n",
    "    query SayHello {\n",
    "      hello\n",
    "    }\n",
    "'''\n",
    "\n",
    "dict(schema.execute(query).data)"
   ]
  },
  {
   "cell_type": "code",
   "execution_count": null,
   "metadata": {
    "ExecuteTime": {
     "end_time": "2018-01-25T16:59:02.376472Z",
     "start_time": "2018-01-25T16:58:32.081492Z"
    }
   },
   "outputs": [],
   "source": [
    "# add routes from decorators\n",
    "app.router.add_routes(routes)\n",
    "\n",
    "# add graphiql route from aiottp_graphql\n",
    "gql_view = GraphQLView(schema=schema, graphiql=True)\n",
    "app.router.add_route('*', '/graphql', gql_view, name='graphql')\n",
    "\n",
    "\n",
    "if __name__ == '__main__':\n",
    "    web.run_app(app, host='127.0.0.1', port=8080)\n"
   ]
  },
  {
   "cell_type": "code",
   "execution_count": null,
   "metadata": {},
   "outputs": [],
   "source": []
  }
 ],
 "metadata": {
  "hide_input": false,
  "kernelspec": {
   "display_name": "Python 3",
   "language": "python",
   "name": "python3"
  },
  "language_info": {
   "codemirror_mode": {
    "name": "ipython",
    "version": 3
   },
   "file_extension": ".py",
   "mimetype": "text/x-python",
   "name": "python",
   "nbconvert_exporter": "python",
   "pygments_lexer": "ipython3",
   "version": "3.6.4"
  }
 },
 "nbformat": 4,
 "nbformat_minor": 2
}
