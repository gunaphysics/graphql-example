{
 "cells": [
  {
   "cell_type": "markdown",
   "metadata": {},
   "source": [
    "# A simple graphql backend implented in aiohttp"
   ]
  },
  {
   "cell_type": "markdown",
   "metadata": {},
   "source": [
    "1. imports from stdlib, web-framework, and logging framework\n",
    "2. configure logging\n",
    "3. initialize web application and route table\n",
    "4. configure database connection"
   ]
  },
  {
   "cell_type": "code",
   "execution_count": 1,
   "metadata": {
    "ExecuteTime": {
     "end_time": "2018-01-26T11:17:16.278427Z",
     "start_time": "2018-01-26T11:17:15.247793Z"
    }
   },
   "outputs": [
    {
     "data": {
      "text/plain": [
       "<sqlite3.Cursor at 0x106230ce0>"
      ]
     },
     "execution_count": 1,
     "metadata": {},
     "output_type": "execute_result"
    }
   ],
   "source": [
    "from contextlib import contextmanager\n",
    "import sqlite3\n",
    "import typing as T\n",
    "import sys\n",
    "\n",
    "from aiohttp import web\n",
    "from aiohttp_graphql import GraphQLView\n",
    "\n",
    "from IPython import get_ipython\n",
    "\n",
    "from eliot import start_action, to_file, use_asyncio_context\n",
    "\n",
    "\n",
    "\n",
    "# set up logging\n",
    "\n",
    "use_asyncio_context()\n",
    "\n",
    "to_file(open('log.json', 'w'))\n",
    "\n",
    "_ipython = str(type(get_ipython()))\n",
    "\n",
    "in_jupyter_notebook = 'ipython' in _ipython and not 'zmqshell' in _ipython\n",
    "\n",
    "if not in_jupyter_notebook:\n",
    "    # we don't want lots of output in a jupyter notebook\n",
    "    stdout_destination = to_file(sys.stdout)\n",
    "\n",
    "\n",
    "# initialize app\n",
    "\n",
    "app = web.Application()\n",
    "routes = web.RouteTableDef()\n",
    "\n",
    "# configure database\n",
    "connection = sqlite3.connect(':memory:')\n",
    "# here be dragons\n",
    "connection.execute('PRAGMA synchronous = OFF')\n",
    "# avoid globals\n",
    "app['connection'] = connection"
   ]
  },
  {
   "cell_type": "markdown",
   "metadata": {},
   "source": [
    "## Logging shortcuts\n",
    "\n",
    "Some simple context managers to make logging less verbose"
   ]
  },
  {
   "cell_type": "code",
   "execution_count": 2,
   "metadata": {
    "ExecuteTime": {
     "end_time": "2018-01-26T11:17:16.302491Z",
     "start_time": "2018-01-26T11:17:16.281417Z"
    }
   },
   "outputs": [],
   "source": [
    "@contextmanager\n",
    "def log_action(action_type, **kwargs):\n",
    "    \"\"\"A simple wrapper over eliot.start_action to make things less verbose.\"\"\"\n",
    "    with start_action(action_type=action_type, **kwargs) as action: \n",
    "        yield action\n",
    "\n",
    "\n",
    "@contextmanager\n",
    "def log_inbound_request(request, **kwargs):\n",
    "    \"\"\"A logging shortcut for when we receive requests.\"\"\"\n",
    "    with log_action(\n",
    "        'inbound request',\n",
    "        \n",
    "        method=request.method,\n",
    "        resource=str(request.rel_url),\n",
    "        https_enabled=request.secure,\n",
    "        from_ip=request.remote,\n",
    "        \n",
    "        **kwargs\n",
    "        \n",
    "    ) as action:\n",
    "        \n",
    "        yield action"
   ]
  },
  {
   "cell_type": "markdown",
   "metadata": {},
   "source": [
    "## Brief aiohttp route/view example w/eliot logging\n",
    "\n",
    "Two simple view coroutines decorated with their routes\n",
    "\n",
    "Note, aiohttp also allows one to add routes and related views without\n",
    "the use of decorators as flask does\n",
    "\n",
    "```python3\n",
    "\n",
    "app.router.add_route('GET', '/', index)\n",
    "# or\n",
    "app.router.add_get('/', index)\n",
    "\n",
    "```\n",
    "\n",
    "This is arguably better, if only because you could see\n",
    "the mapping of all your routes and related views in one\n",
    "place without resorting to programmatically iterate through the\n",
    "route table's resource map"
   ]
  },
  {
   "cell_type": "code",
   "execution_count": 3,
   "metadata": {
    "ExecuteTime": {
     "end_time": "2018-01-26T11:17:16.349913Z",
     "start_time": "2018-01-26T11:17:16.306705Z"
    }
   },
   "outputs": [],
   "source": [
    "@routes.get('/')\n",
    "async def index(request):\n",
    "    \"\"\"Redirect to greet route.\"\"\"\n",
    "    with log_inbound_request(request):\n",
    "        \n",
    "        url = request.app.router['greet'].url_for(name='you')\n",
    "        \n",
    "        with log_action('redirect', to_url=str(url)):\n",
    "            \n",
    "            return web.HTTPFound(url)\n",
    "\n",
    "\n",
    "@routes.get('/greet/{name}', name='greet')\n",
    "async def greet(request):\n",
    "    \"\"\"Say hello.\"\"\"\n",
    "    with log_inbound_request(request):\n",
    "        \n",
    "        name = request.match_info['name']\n",
    "                \n",
    "        with log_action('sending response'):\n",
    "            \n",
    "            return web.Response(\n",
    "                text=f'<html><h2>Hello {name}!</h2><html>',\n",
    "                content_type='Content-Type: text/html'\n",
    "            )"
   ]
  },
  {
   "cell_type": "markdown",
   "metadata": {},
   "source": [
    "## Domain Model\n",
    "\n",
    "Aspects of a **library** in terms of:\n",
    "* Books\n",
    "* Authors\n",
    "* Catalogs"
   ]
  },
  {
   "cell_type": "code",
   "execution_count": 4,
   "metadata": {
    "ExecuteTime": {
     "end_time": "2018-01-26T11:17:16.544265Z",
     "start_time": "2018-01-26T11:17:16.357926Z"
    }
   },
   "outputs": [],
   "source": [
    "from datetime import date as Date\n",
    "from enum import Enum\n",
    "import random\n",
    "\n",
    "# the PEP 557 future is now\n",
    "from attr import dataclass\n",
    "from attr import attrib as field\n",
    "\n",
    "from mimesis import Generic\n",
    "\n",
    "# fake data generator\n",
    "generate = Generic('en')\n",
    "\n",
    "class Floor(Enum):\n",
    "    \"\"\"Describes the floors in the library.\"\"\"\n",
    "    Zero = 0\n",
    "    One = 1\n",
    "    Two = 2\n",
    "    Three = 3\n",
    "\n",
    "\n",
    "@dataclass\n",
    "class Author:\n",
    "    first_name: str\n",
    "    last_name: str\n",
    "    age: int\n",
    "        \n",
    "\n",
    "@dataclass\n",
    "class Book:\n",
    "    title: str\n",
    "    author: Author\n",
    "    published: Date\n",
    "        \n",
    "        \n",
    "@dataclass\n",
    "class Catalog:\n",
    "    genre: str\n",
    "    floor:  Floor\n",
    "    books: T.List[Book]\n",
    "        "
   ]
  },
  {
   "cell_type": "markdown",
   "metadata": {},
   "source": [
    "## Factory functions\n",
    "\n",
    "For generating fake data"
   ]
  },
  {
   "cell_type": "code",
   "execution_count": 5,
   "metadata": {
    "ExecuteTime": {
     "end_time": "2018-01-26T11:17:16.578719Z",
     "start_time": "2018-01-26T11:17:16.546897Z"
    }
   },
   "outputs": [],
   "source": [
    "def author_factory(**replace):\n",
    "    kwargs = dict(\n",
    "        first_name = generate.personal.name(),\n",
    "        last_name = generate.personal.last_name(),\n",
    "        age = generate.personal.age(),\n",
    "    )\n",
    "    \n",
    "    kwargs.update(replace)\n",
    "    \n",
    "    return Author(**kwargs)\n",
    "\n",
    "\n",
    "def book_factory(**replace):\n",
    "    kwargs = dict(\n",
    "        title = generate.text.title(),\n",
    "        author = author_factory(),\n",
    "        published = generate.datetime.date()\n",
    "    )\n",
    "    \n",
    "    kwargs.update(replace)\n",
    "    \n",
    "    return Book(**kwargs)\n",
    "    \n",
    "def catalog_factory(**replace):\n",
    "    kwargs = dict(\n",
    "        genre = random.choice(('history', 'biography', 'thriller', 'romance')),\n",
    "        floor = random.choice(tuple(Floor)),\n",
    "        books = [book_factory() for _ in range(5)]\n",
    "    )\n",
    "    \n",
    "    kwargs.update(replace)\n",
    "    \n",
    "    return Catalog(**kwargs)"
   ]
  },
  {
   "cell_type": "markdown",
   "metadata": {},
   "source": [
    "## sql"
   ]
  },
  {
   "cell_type": "code",
   "execution_count": 6,
   "metadata": {
    "ExecuteTime": {
     "end_time": "2018-01-26T11:17:16.594245Z",
     "start_time": "2018-01-26T11:17:16.582220Z"
    }
   },
   "outputs": [
    {
     "data": {
      "text/plain": [
       "<sqlite3.Cursor at 0x106b81490>"
      ]
     },
     "execution_count": 6,
     "metadata": {},
     "output_type": "execute_result"
    }
   ],
   "source": [
    "## create the tables\n",
    "\n",
    "CREATE_TABLES = \"\"\"\n",
    "\n",
    "CREATE TABLE IF NOT EXISTS author(\n",
    "    id         INTEGER PRIMARY KEY AUTOINCREMENT NOT NULL,\n",
    "    first_name TEXT NOT NULL,\n",
    "    last_name  TEXT NOT NULL,\n",
    "    age        INTEGER NOT NULL\n",
    ");\n",
    "\n",
    "CREATE TABLE IF NOT EXISTS book(\n",
    "    id        INTEGER PRIMARY KEY AUTOINCREMENT NOT NULL,\n",
    "    published TEXT NOT NULL,\n",
    "    author_id INTEGER NOT NULL REFERENCES author(id)\n",
    "\n",
    ");\n",
    "\n",
    "CREATE TABLE IF NOT EXISTS catalog(\n",
    "    id    INTEGER PRIMARY KEY AUTOINCREMENT NOT NULL,\n",
    "    genre TEXT NOT NULL,\n",
    "    floor INTEGER CHECK (floor IN (0, 1, 2, 3)) NOT NULL\n",
    "    \n",
    ");\n",
    "\n",
    "CREATE TABLE IF NOT EXISTS catalog_book(\n",
    "    catalog_id INTEGER NOT NULL REFERENCES catalog(id),\n",
    "    book_id    INTEGER NOT NULL REFERENCES book(id)\n",
    ");\n",
    "\n",
    "\"\"\"\n",
    "\n",
    "connection.executescript(CREATE_TABLES)"
   ]
  },
  {
   "cell_type": "code",
   "execution_count": 7,
   "metadata": {
    "ExecuteTime": {
     "end_time": "2018-01-26T11:17:16.601018Z",
     "start_time": "2018-01-26T11:17:16.596800Z"
    }
   },
   "outputs": [],
   "source": [
    "# seed the db"
   ]
  },
  {
   "cell_type": "markdown",
   "metadata": {},
   "source": [
    "## graphql schema definition"
   ]
  },
  {
   "cell_type": "code",
   "execution_count": 8,
   "metadata": {
    "ExecuteTime": {
     "end_time": "2018-01-26T11:17:16.733438Z",
     "start_time": "2018-01-26T11:17:16.605074Z"
    }
   },
   "outputs": [
    {
     "data": {
      "text/plain": [
       "{'hello': 'World'}"
      ]
     },
     "execution_count": 8,
     "metadata": {},
     "output_type": "execute_result"
    }
   ],
   "source": [
    "import graphene\n",
    "\n",
    "class Query(graphene.ObjectType):\n",
    "    hello = graphene.String(description='A typical hello world')\n",
    "\n",
    "    def resolve_hello(self, info):\n",
    "        return 'World'\n",
    "\n",
    "schema = graphene.Schema(query=Query)\n",
    "\n",
    "query = '''\n",
    "    query SayHello {\n",
    "      hello\n",
    "    }\n",
    "'''\n",
    "\n",
    "dict(schema.execute(query).data)"
   ]
  },
  {
   "cell_type": "markdown",
   "metadata": {},
   "source": [
    "## rest routes/views"
   ]
  },
  {
   "cell_type": "code",
   "execution_count": 9,
   "metadata": {
    "ExecuteTime": {
     "end_time": "2018-01-26T11:17:16.742461Z",
     "start_time": "2018-01-26T11:17:16.738712Z"
    }
   },
   "outputs": [],
   "source": [
    "## code"
   ]
  },
  {
   "cell_type": "markdown",
   "metadata": {},
   "source": [
    "## graphql routes/view"
   ]
  },
  {
   "cell_type": "code",
   "execution_count": 10,
   "metadata": {
    "ExecuteTime": {
     "end_time": "2018-01-26T11:17:16.753269Z",
     "start_time": "2018-01-26T11:17:16.746072Z"
    }
   },
   "outputs": [
    {
     "data": {
      "text/plain": [
       "<ResourceRoute [*] <PlainResource 'graphql'  /graphql -> <function AbstractRoute.__init__.<locals>.handler_wrapper at 0x106bf3510>"
      ]
     },
     "execution_count": 10,
     "metadata": {},
     "output_type": "execute_result"
    }
   ],
   "source": [
    "gql_view = GraphQLView(schema=schema, graphiql=True)\n",
    "app.router.add_route('*', '/graphql', gql_view, name='graphql')"
   ]
  },
  {
   "cell_type": "code",
   "execution_count": 11,
   "metadata": {
    "ExecuteTime": {
     "end_time": "2018-01-26T11:17:16.764791Z",
     "start_time": "2018-01-26T11:17:16.756647Z"
    }
   },
   "outputs": [],
   "source": [
    "# add routes from decorators\n",
    "app.router.add_routes(routes)\n",
    "\n",
    "\n",
    "# if __name__ == '__main__':    \n",
    "#     web.run_app(app, host='127.0.0.1', port=8080)\n"
   ]
  },
  {
   "cell_type": "code",
   "execution_count": null,
   "metadata": {},
   "outputs": [],
   "source": []
  }
 ],
 "metadata": {
  "hide_input": false,
  "kernelspec": {
   "display_name": "Python 3",
   "language": "python",
   "name": "python3"
  },
  "language_info": {
   "codemirror_mode": {
    "name": "ipython",
    "version": 3
   },
   "file_extension": ".py",
   "mimetype": "text/x-python",
   "name": "python",
   "nbconvert_exporter": "python",
   "pygments_lexer": "ipython3",
   "version": "3.6.4"
  }
 },
 "nbformat": 4,
 "nbformat_minor": 2
}
