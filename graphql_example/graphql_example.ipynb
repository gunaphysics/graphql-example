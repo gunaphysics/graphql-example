{
 "cells": [
  {
   "cell_type": "markdown",
   "metadata": {},
   "source": [
    "# A simple graphql backend implented in aiohttp"
   ]
  },
  {
   "cell_type": "markdown",
   "metadata": {},
   "source": [
    "1. imports from stdlib, web-framework, and logging framework\n",
    "2. configure logging\n",
    "3. initialize web application and route table\n",
    "4. configure database connection"
   ]
  },
  {
   "cell_type": "code",
   "execution_count": 1,
   "metadata": {
    "ExecuteTime": {
     "end_time": "2018-01-26T16:00:21.978287Z",
     "start_time": "2018-01-26T16:00:20.872993Z"
    }
   },
   "outputs": [],
   "source": [
    "from contextlib import contextmanager\n",
    "import sqlite3\n",
    "import typing as T\n",
    "import sys\n",
    "\n",
    "import aiohttp\n",
    "from aiohttp import web\n",
    "from aiohttp_graphql import GraphQLView\n",
    "\n",
    "from IPython import get_ipython\n",
    "\n",
    "from eliot import (\n",
    "    start_action,\n",
    "    Message,\n",
    "    to_file,\n",
    "    use_asyncio_context\n",
    ")"
   ]
  },
  {
   "cell_type": "code",
   "execution_count": 2,
   "metadata": {
    "ExecuteTime": {
     "end_time": "2018-01-26T16:00:21.990259Z",
     "start_time": "2018-01-26T16:00:21.980251Z"
    }
   },
   "outputs": [],
   "source": [
    "# set up logging\n",
    "\n",
    "use_asyncio_context()\n",
    "\n",
    "to_file(open('log.json', 'w'))\n",
    "\n",
    "_ipython = str(type(get_ipython()))\n",
    "\n",
    "in_jupyter_notebook = 'ipython' in _ipython or 'zmqshell' in _ipython\n",
    "\n",
    "if not in_jupyter_notebook:\n",
    "    # we don't want lots of output in a jupyter notebook\n",
    "    stdout_destination = to_file(sys.stdout)"
   ]
  },
  {
   "cell_type": "code",
   "execution_count": 3,
   "metadata": {
    "ExecuteTime": {
     "end_time": "2018-01-26T16:00:22.029956Z",
     "start_time": "2018-01-26T16:00:21.992438Z"
    }
   },
   "outputs": [
    {
     "data": {
      "text/plain": [
       "<sqlite3.Cursor at 0x10918cf10>"
      ]
     },
     "execution_count": 3,
     "metadata": {},
     "output_type": "execute_result"
    }
   ],
   "source": [
    "# initialize app\n",
    "\n",
    "app = web.Application()\n",
    "routes = web.RouteTableDef()\n",
    "\n",
    "# configure database\n",
    "connection = sqlite3.connect('library.sqlite')\n",
    "# here be dragons\n",
    "connection.execute('PRAGMA synchronous = OFF')\n",
    "# avoid globals\n",
    "app['connection'] = connection"
   ]
  },
  {
   "cell_type": "markdown",
   "metadata": {},
   "source": [
    "## Logging shortcuts\n",
    "\n",
    "Some simple context managers to make logging less verbose"
   ]
  },
  {
   "cell_type": "code",
   "execution_count": 4,
   "metadata": {
    "ExecuteTime": {
     "end_time": "2018-01-26T16:00:22.139287Z",
     "start_time": "2018-01-26T16:00:22.042140Z"
    }
   },
   "outputs": [],
   "source": [
    "@contextmanager\n",
    "def log_action(action_type: str, **kwargs):\n",
    "    \"\"\"A simple wrapper over eliot.start_action to make things less verbose.\"\"\"\n",
    "    with start_action(action_type=action_type, **kwargs) as action: \n",
    "        yield action\n",
    "\n",
    "\n",
    "@contextmanager\n",
    "def log_request(request: aiohttp.web.Request, **kwargs):\n",
    "    \"\"\"A logging shortcut for when we receive requests.\"\"\"\n",
    "    with log_action(\n",
    "        'processing request',\n",
    "        \n",
    "        method=request.method,\n",
    "        resource=str(request.rel_url),\n",
    "        https_enabled=request.secure,\n",
    "        from_ip=request.remote,\n",
    "        query=dict(request.query) or None,\n",
    "        \n",
    "        **kwargs\n",
    "        \n",
    "    ) as action:\n",
    "        \n",
    "        yield action\n",
    "\n",
    "@contextmanager\n",
    "def log_response(response: aiohttp.web.Response, **kwargs):\n",
    "    with log_action(\n",
    "        'sending response',\n",
    "        \n",
    "        status=response.status,\n",
    "        headers=dict(response.headers),\n",
    "        \n",
    "        **kwargs\n",
    "        \n",
    "    ) as action:\n",
    "        \n",
    "        yield action\n",
    "        \n",
    "def log_message(message: str, **kwargs):\n",
    "    \"\"\"Log the message in the current action context.\"\"\"\n",
    "    Message.log(message_type=message, **kwargs)"
   ]
  },
  {
   "cell_type": "markdown",
   "metadata": {},
   "source": [
    "## Brief aiohttp route/view example w/eliot logging\n",
    "\n",
    "Two simple view coroutines decorated with their routes\n",
    "\n",
    "Note, aiohttp also allows one to add routes and related views without\n",
    "the use of decorators as flask does\n",
    "\n",
    "```python3\n",
    "\n",
    "app.router.add_route('GET', '/', index)\n",
    "# or\n",
    "app.router.add_get('/', index)\n",
    "\n",
    "```\n",
    "\n",
    "This is arguably better, if only because you could see\n",
    "the mapping of all your routes and related views in one\n",
    "place without resorting to programmatically iterate through the\n",
    "route table's resource map"
   ]
  },
  {
   "cell_type": "code",
   "execution_count": 5,
   "metadata": {
    "ExecuteTime": {
     "end_time": "2018-01-26T16:00:22.201735Z",
     "start_time": "2018-01-26T16:00:22.143367Z"
    }
   },
   "outputs": [],
   "source": [
    "@routes.get('/')\n",
    "async def index(request):\n",
    "    \"\"\"Redirect to greet route.\"\"\"\n",
    "    with log_request(request):\n",
    "        \n",
    "        url = request.app.router['greet'].url_for(name='you')\n",
    "        \n",
    "        with log_action('redirect', to_url=str(url)):\n",
    "            \n",
    "            return web.HTTPFound(url)\n",
    "\n",
    "\n",
    "@routes.get('/greet/{name}', name='greet')\n",
    "async def greet(request):\n",
    "    \"\"\"Say hello.\"\"\"\n",
    "    with log_request(request):\n",
    "        \n",
    "        name = request.match_info['name']\n",
    "        \n",
    "        response = web.Response(\n",
    "                text=f'<html><h2>Hello {name}!</h2><html>',\n",
    "                content_type='Content-Type: text/html'\n",
    "            )\n",
    "                \n",
    "        with log_response(response):\n",
    "            \n",
    "            return response"
   ]
  },
  {
   "cell_type": "markdown",
   "metadata": {},
   "source": [
    "## Domain Model\n",
    "\n",
    "Aspects of a **library** in terms of:\n",
    "* Books\n",
    "* Authors\n",
    "* Catalogs"
   ]
  },
  {
   "cell_type": "code",
   "execution_count": 6,
   "metadata": {
    "ExecuteTime": {
     "end_time": "2018-01-26T16:00:22.309534Z",
     "start_time": "2018-01-26T16:00:22.205895Z"
    }
   },
   "outputs": [],
   "source": [
    "from datetime import date as Date\n",
    "from enum import Enum\n",
    "import random\n",
    "\n",
    "# the PEP 557 future is now\n",
    "from attr import dataclass\n",
    "from attr import attrib as field\n",
    "import attr\n",
    "\n",
    "\n",
    "class Floor(Enum):\n",
    "    \"\"\"Describes the floors in the library.\"\"\"\n",
    "    Zero = 0\n",
    "    One = 1\n",
    "    Two = 2\n",
    "    Three = 3\n",
    "\n",
    "\n",
    "@dataclass\n",
    "class Author:\n",
    "    first_name: str\n",
    "    last_name: str\n",
    "    age: int\n",
    "    books: T.Optional[T.List['Book']]\n",
    "        \n",
    "\n",
    "@dataclass\n",
    "class Book:\n",
    "    title: str\n",
    "    author: Author\n",
    "    published: Date\n",
    "        \n",
    "        \n",
    "@dataclass\n",
    "class Catalog:\n",
    "    genre: str\n",
    "    floor:  Floor\n",
    "    books: T.Optional[T.List[Book]]\n",
    "        "
   ]
  },
  {
   "cell_type": "markdown",
   "metadata": {},
   "source": [
    "## Factory functions\n",
    "\n",
    "For generating fake data"
   ]
  },
  {
   "cell_type": "code",
   "execution_count": 7,
   "metadata": {
    "ExecuteTime": {
     "end_time": "2018-01-26T16:00:22.501466Z",
     "start_time": "2018-01-26T16:00:22.312677Z"
    }
   },
   "outputs": [],
   "source": [
    "from mimesis import Generic\n",
    "\n",
    "# fake data generator\n",
    "generate = Generic('en')\n",
    "\n",
    "\n",
    "def author_factory(**replace):\n",
    "    kwargs = dict(\n",
    "        first_name = generate.personal.name(),\n",
    "        last_name = generate.personal.last_name(),\n",
    "        age = generate.personal.age(),\n",
    "        books = None\n",
    "    )\n",
    "    \n",
    "    kwargs.update(replace)\n",
    "    \n",
    "    return Author(**kwargs)\n",
    "\n",
    "\n",
    "def book_factory(**replace):\n",
    "    kwargs = dict(\n",
    "        title = generate.text.title(),\n",
    "        author = author_factory(),\n",
    "        published = generate.datetime.date()\n",
    "    )\n",
    "    \n",
    "    kwargs.update(replace)\n",
    "    \n",
    "    return Book(**kwargs)\n",
    "    \n",
    "def catalog_factory(**replace):\n",
    "    kwargs = dict(\n",
    "        genre = random.choice(('history', 'biography', 'thriller', 'romance')),\n",
    "        floor = random.choice(tuple(Floor)),\n",
    "        books = None\n",
    "    )\n",
    "    \n",
    "    kwargs.update(replace)\n",
    "    \n",
    "    return Catalog(**kwargs)"
   ]
  },
  {
   "cell_type": "markdown",
   "metadata": {},
   "source": [
    "## sql"
   ]
  },
  {
   "cell_type": "code",
   "execution_count": 8,
   "metadata": {
    "ExecuteTime": {
     "end_time": "2018-01-26T16:00:22.519510Z",
     "start_time": "2018-01-26T16:00:22.504881Z"
    }
   },
   "outputs": [],
   "source": [
    "## create the tables\n",
    "\n",
    "async def create_tables(app):\n",
    "    print('creating tables')\n",
    "\n",
    "    CREATE_TABLES = \"\"\"\n",
    "\n",
    "    CREATE TABLE IF NOT EXISTS author(\n",
    "        id         INTEGER PRIMARY KEY AUTOINCREMENT NOT NULL,\n",
    "        first_name TEXT NOT NULL,\n",
    "        last_name  TEXT NOT NULL,\n",
    "        age        INTEGER NOT NULL\n",
    "    );\n",
    "\n",
    "    CREATE TABLE IF NOT EXISTS book(\n",
    "        id        INTEGER PRIMARY KEY AUTOINCREMENT NOT NULL,\n",
    "        title     TEXT NOT NULL,\n",
    "        published TEXT NOT NULL,\n",
    "        author_id INTEGER NOT NULL REFERENCES author(id)\n",
    "\n",
    "    );\n",
    "\n",
    "    CREATE TABLE IF NOT EXISTS catalog(\n",
    "        id    INTEGER PRIMARY KEY AUTOINCREMENT NOT NULL,\n",
    "        genre TEXT NOT NULL,\n",
    "        floor INTEGER CHECK (floor IN (0, 1, 2, 3)) NOT NULL\n",
    "\n",
    "    );\n",
    "\n",
    "    CREATE TABLE IF NOT EXISTS catalog_book(\n",
    "        catalog_id INTEGER NOT NULL REFERENCES catalog(id),\n",
    "        book_id    INTEGER NOT NULL REFERENCES book(id)\n",
    "    );\n",
    "\n",
    "    \"\"\"\n",
    "\n",
    "    app['connection'].executescript(CREATE_TABLES)\n",
    "    \n",
    "    print('tables created')"
   ]
  },
  {
   "cell_type": "code",
   "execution_count": 9,
   "metadata": {
    "ExecuteTime": {
     "end_time": "2018-01-26T16:00:22.584996Z",
     "start_time": "2018-01-26T16:00:22.523263Z"
    }
   },
   "outputs": [],
   "source": [
    "# seed the db\n",
    "\n",
    "async def seed_db(app):\n",
    "    print('seeding database')\n",
    "\n",
    "    connection = app['connection']\n",
    "\n",
    "    authors: T.Tuple[T.Tuple] = tuple(\n",
    "        (a.first_name, a.last_name, a.age)\n",
    "        for a in (author_factory() for _ in range(200)))\n",
    "\n",
    "    with connection:\n",
    "        # insert 200 authors\n",
    "        connection.executemany(\n",
    "            'INSERT INTO author (first_name, last_name, age) VALUES (?, ?, ?)',\n",
    "            authors)\n",
    "\n",
    "        # insert 500 books\n",
    "        author_ids = tuple(\n",
    "            row[0] for row in connection.execute('SELECT id FROM author'))\n",
    "\n",
    "        books = ((book.title, book.published, random.choice(author_ids))\n",
    "                 for book in (book_factory() for _ in range(500)))\n",
    "\n",
    "        connection.executemany(\n",
    "            'INSERT INTO book (title, published, author_id) VALUES (?, ?, ?)', books)\n",
    "\n",
    "        # insert 50 catalogs\n",
    "        catalogs = ((c.genre, c.floor.value)\n",
    "                    for c in (catalog_factory() for _ in range(50)))\n",
    "\n",
    "        connection.executemany(\n",
    "            'INSERT INTO catalog (genre, floor) VALUES (?, ?)', catalogs)\n",
    "\n",
    "    print('database seeded')\n"
   ]
  },
  {
   "cell_type": "code",
   "execution_count": 10,
   "metadata": {
    "ExecuteTime": {
     "end_time": "2018-01-26T16:00:22.899209Z",
     "start_time": "2018-01-26T16:00:22.589572Z"
    }
   },
   "outputs": [],
   "source": [
    "@routes.get('/author')\n",
    "async def author(request):\n",
    "\n",
    "    connection = request.app['connection']\n",
    "\n",
    "    with log_request(request):\n",
    "\n",
    "        # parse values from query params\n",
    "        \n",
    "        id = None or int(request.query.get('id', 0))\n",
    "        first_name = request.query.get('first_name')\n",
    "        last_name = request.query.get('last_name')\n",
    "        age = None or int(request.query.get('age', 0))\n",
    "        limit = int(request.query.get('limit', 0))\n",
    "\n",
    "        # build sql query\n",
    "        \n",
    "        id_query = 'select * from author where id = ?'\n",
    "        first_name_query = 'select * from author where first_name = ?'\n",
    "        last_name_query = 'select * from author where last_name = ?'\n",
    "        age_query = 'select * from author where age = ?'\n",
    "\n",
    "        value_query = (\n",
    "            (id, id_query),\n",
    "            (first_name, first_name_query),\n",
    "            (last_name, last_name_query),\n",
    "            (age, age_query),\n",
    "        )\n",
    "\n",
    "        query_string = ' UNION '.join(\n",
    "            query for value, query in value_query if value if not None)\n",
    "\n",
    "        # select all authors if query string is empty\n",
    "\n",
    "        query_string = query_string if query_string else 'select * from author'\n",
    "\n",
    "        # limit\n",
    "\n",
    "        if limit:\n",
    "            query_string += f' limit {limit}'\n",
    "\n",
    "        # the iterator of values to be passed to the query string\n",
    "\n",
    "        values = tuple(v for v, q in value_query if v)\n",
    "\n",
    "        with log_action('querying authors table', sql=query_string, params=values):\n",
    "\n",
    "            with connection:\n",
    "                if values:\n",
    "                    rows = connection.execute(query_string, values)\n",
    "                else:\n",
    "                    rows = connection.execute(query_string)\n",
    "        \n",
    "            authors = [\n",
    "                {\n",
    "                    'id': id,\n",
    "                    'first_name': first_name,\n",
    "                    'last_name': last_name,\n",
    "                    'age': age\n",
    "                } for id, first_name, last_name, age in rows\n",
    "            ]\n",
    "            \n",
    "        \n",
    "        # get books\n",
    "        \n",
    "#         book_sql_query = 'select (title, published, author_id) from book where author_id = ?'\n",
    "        \n",
    "#         with log_action('querying books table', sql=book_sql_query):\n",
    "            \n",
    "#             with connection:\n",
    "#                 ids = (author['id'] for author in authors)\n",
    "#                 rows = connection.execute_many(book_sql_query, ids)\n",
    "        \n",
    "#             books = list(rows)\n",
    "        \n",
    "        \n",
    "#         # update authors\n",
    "#         # this is all bad\n",
    "        \n",
    "        \n",
    "#         authors = [\n",
    "#             {\n",
    "#                 'id': author['id'],\n",
    "#                 'first_name': author['first_name'],\n",
    "#                 'last_name': author['last_name'],\n",
    "#                 'books': [\n",
    "#                     {\n",
    "#                         'title': title,\n",
    "#                         'published': published\n",
    "#                     } for title, published, author_id in books\n",
    "#                       if author_id == author_id\n",
    "#                 ]\n",
    "#             } for author in authors\n",
    "#         ]\n",
    "\n",
    "        response = web.json_response(authors)\n",
    "\n",
    "        with log_response(response):\n",
    "\n",
    "            return response\n"
   ]
  },
  {
   "cell_type": "code",
   "execution_count": 11,
   "metadata": {
    "ExecuteTime": {
     "end_time": "2018-01-26T16:00:23.063178Z",
     "start_time": "2018-01-26T16:00:22.904247Z"
    }
   },
   "outputs": [],
   "source": [
    "@routes.get('/book')\n",
    "async def book(request):\n",
    "\n",
    "    connection = request.app['connection']\n",
    "\n",
    "    with log_request(request):\n",
    "\n",
    "        # parse values from query params\n",
    "        \n",
    "        id = None or int(request.query.get('id', 0))\n",
    "        published = request.query.get('published')\n",
    "        author_id = request.query.get('author_id')\n",
    "        limit = int(request.query.get('limit', 0))\n",
    "        \n",
    "\n",
    "        # build sql query\n",
    "        \n",
    "        id_query = 'select * from book where id = ?'\n",
    "        published_query = 'select * from book where published = ?'\n",
    "        author_id_query = 'select * from book where author_id = ?'\n",
    "\n",
    "        value_query = (\n",
    "            (id, id_query),\n",
    "            (published, published_query),\n",
    "            (author_id, author_id_query),\n",
    "        )\n",
    "\n",
    "        query_string = ' UNION '.join(\n",
    "            query for value, query in value_query if value if not None)\n",
    "\n",
    "        # get all books if empty query string\n",
    "\n",
    "        query_string = query_string if query_string else 'select * from book'\n",
    "\n",
    "        # limit\n",
    "\n",
    "        if limit:\n",
    "            query_string += f' limit {limit}'\n",
    "\n",
    "        # the iterator of values to be passed to the query string\n",
    "\n",
    "        values = tuple(v for v, q in value_query if v)\n",
    "\n",
    "        with log_action('querying db', sql=query_string, params=values):\n",
    "\n",
    "            with connection:\n",
    "                if values:\n",
    "                    rows = connection.execute(query_string, values)\n",
    "                else:\n",
    "                    rows = connection.execute(query_string)\n",
    "\n",
    "        books = [\n",
    "            {\n",
    "                'id': id,\n",
    "                'published': published,\n",
    "                'author_id': author_id\n",
    "            } for id, published, author_id in rows\n",
    "        ]\n",
    "\n",
    "        response = web.json_response(books)\n",
    "\n",
    "        with log_response(response):\n",
    "\n",
    "            return response"
   ]
  },
  {
   "cell_type": "code",
   "execution_count": 12,
   "metadata": {
    "ExecuteTime": {
     "end_time": "2018-01-26T16:00:23.247975Z",
     "start_time": "2018-01-26T16:00:23.066704Z"
    }
   },
   "outputs": [],
   "source": [
    "@routes.get('/catalog')\n",
    "async def catalog(request):\n",
    "\n",
    "    connection = request.app['connection']\n",
    "\n",
    "    with log_request(request):\n",
    "\n",
    "        # parse values from query params\n",
    "        \n",
    "        id = None or int(request.query.get('id', 0))\n",
    "        published = request.query.get('published')\n",
    "        author_id = request.query.get('author_id')\n",
    "        limit = int(request.query.get('limit', 0))\n",
    "        \n",
    "\n",
    "        # build sql query\n",
    "        \n",
    "        id_query = 'select * from book where id = ?'\n",
    "        published_query = 'select * from book where published = ?'\n",
    "        author_id_query = 'select * from book where author_id = ?'\n",
    "\n",
    "        value_query = (\n",
    "            (id, id_query),\n",
    "            (published, published_query),\n",
    "            (author_id, author_id_query),\n",
    "        )\n",
    "\n",
    "        query_string = ' UNION '.join(\n",
    "            query for value, query in value_query if value if not None)\n",
    "\n",
    "        # get all books if empty query string\n",
    "\n",
    "        query_string = query_string if query_string else 'select * from book'\n",
    "\n",
    "        # limit\n",
    "\n",
    "        if limit:\n",
    "            query_string += f' limit {limit}'\n",
    "\n",
    "        # the iterator of values to be passed to the query string\n",
    "\n",
    "        values = tuple(v for v, q in value_query if v)\n",
    "\n",
    "        with log_action('querying db', sql=query_string, params=values):\n",
    "\n",
    "            with connection:\n",
    "                if values:\n",
    "                    rows = connection.execute(query_string, values)\n",
    "                else:\n",
    "                    rows = connection.execute(query_string)\n",
    "\n",
    "        books = [\n",
    "            {\n",
    "                'id': id,\n",
    "                'published': published,\n",
    "                'author_id': author_id\n",
    "            } for id, published, author_id in rows\n",
    "        ]\n",
    "\n",
    "        response = web.json_response(books)\n",
    "\n",
    "        with log_response(response):\n",
    "\n",
    "            return response"
   ]
  },
  {
   "cell_type": "markdown",
   "metadata": {},
   "source": [
    "## graphql schema definition"
   ]
  },
  {
   "cell_type": "code",
   "execution_count": 13,
   "metadata": {
    "ExecuteTime": {
     "end_time": "2018-01-26T16:00:23.382768Z",
     "start_time": "2018-01-26T16:00:23.252197Z"
    }
   },
   "outputs": [
    {
     "data": {
      "text/plain": [
       "{'hello': 'World'}"
      ]
     },
     "execution_count": 13,
     "metadata": {},
     "output_type": "execute_result"
    }
   ],
   "source": [
    "import graphene\n",
    "\n",
    "class Query(graphene.ObjectType):\n",
    "    hello = graphene.String(description='A typical hello world')\n",
    "\n",
    "    def resolve_hello(self, info):\n",
    "        return 'World'\n",
    "\n",
    "schema = graphene.Schema(query=Query)\n",
    "\n",
    "query = '''\n",
    "    query SayHello {\n",
    "      hello\n",
    "    }\n",
    "'''\n",
    "\n",
    "dict(schema.execute(query).data)"
   ]
  },
  {
   "cell_type": "markdown",
   "metadata": {},
   "source": [
    "## rest routes/views"
   ]
  },
  {
   "cell_type": "code",
   "execution_count": 14,
   "metadata": {
    "ExecuteTime": {
     "end_time": "2018-01-26T16:00:23.390477Z",
     "start_time": "2018-01-26T16:00:23.386305Z"
    }
   },
   "outputs": [],
   "source": [
    "## code"
   ]
  },
  {
   "cell_type": "markdown",
   "metadata": {},
   "source": [
    "## graphql route/view"
   ]
  },
  {
   "cell_type": "code",
   "execution_count": null,
   "metadata": {
    "ExecuteTime": {
     "start_time": "2018-01-26T16:00:20.953Z"
    }
   },
   "outputs": [
    {
     "data": {
      "text/plain": [
       "<ResourceRoute [*] <PlainResource 'graphql'  /graphql -> <function AbstractRoute.__init__.<locals>.handler_wrapper at 0x109af7f28>"
      ]
     },
     "execution_count": 15,
     "metadata": {},
     "output_type": "execute_result"
    }
   ],
   "source": [
    "gql_view = GraphQLView(schema=schema, graphiql=True)\n",
    "\n",
    "app.router.add_route('*', '/graphql', gql_view, name='graphql')"
   ]
  },
  {
   "cell_type": "code",
   "execution_count": null,
   "metadata": {
    "ExecuteTime": {
     "start_time": "2018-01-26T16:00:20.957Z"
    }
   },
   "outputs": [
    {
     "name": "stdout",
     "output_type": "stream",
     "text": [
      "creating tables\n",
      "tables created\n",
      "seeding database\n",
      "database seeded\n",
      "======== Running on http://127.0.0.1:8080 ========\n",
      "(Press CTRL+C to quit)\n"
     ]
    }
   ],
   "source": [
    "# add routes from decorators\n",
    "app.router.add_routes(routes)\n",
    "\n",
    "# create tables and seed the database\n",
    "app.on_startup.append(create_tables)\n",
    "app.on_startup.append(seed_db)\n",
    "\n",
    "# drop tables\n",
    "async def drop_tables(app):\n",
    "    print('dropping table')\n",
    "    \n",
    "    connection = app['connection']\n",
    "    \n",
    "    with connection:\n",
    "        connection.executescript(\"\"\"\n",
    "        DROP TABLE author;\n",
    "        DROP TABLE book;\n",
    "        DROP TABLE catalog;\n",
    "        DROP TABLE catalog_book;\n",
    "        \"\"\")\n",
    "    \n",
    "    print('tables dropped')\n",
    "\n",
    "app.on_cleanup.append(drop_tables)\n",
    "\n",
    "# close the database connection on shutdown\n",
    "async def close_db(app):\n",
    "    print('closing database connection')\n",
    "    app['connection'].close()\n",
    "    print('database connection closed')\n",
    "    \n",
    "app.on_cleanup.append(close_db)\n",
    "\n",
    "\n",
    "if __name__ == '__main__':\n",
    "    \n",
    "    stdout_destination = to_file(sys.stdout)\n",
    "    \n",
    "    web.run_app(app, host='127.0.0.1', port=8080)\n"
   ]
  },
  {
   "cell_type": "code",
   "execution_count": null,
   "metadata": {},
   "outputs": [],
   "source": []
  }
 ],
 "metadata": {
  "hide_input": false,
  "kernelspec": {
   "display_name": "Python 3",
   "language": "python",
   "name": "python3"
  },
  "language_info": {
   "codemirror_mode": {
    "name": "ipython",
    "version": 3
   },
   "file_extension": ".py",
   "mimetype": "text/x-python",
   "name": "python",
   "nbconvert_exporter": "python",
   "pygments_lexer": "ipython3",
   "version": "3.6.4"
  }
 },
 "nbformat": 4,
 "nbformat_minor": 2
}
