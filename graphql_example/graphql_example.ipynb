{
 "cells": [
  {
   "cell_type": "markdown",
   "metadata": {},
   "source": [
    "# A simple graphql backend implented in aiohttp"
   ]
  },
  {
   "cell_type": "markdown",
   "metadata": {},
   "source": [
    "1. imports from stdlib, web-framework, and logging framework\n",
    "2. configure logging\n",
    "3. initialize web application and route table\n",
    "4. configure database connection"
   ]
  },
  {
   "cell_type": "code",
   "execution_count": null,
   "metadata": {
    "ExecuteTime": {
     "end_time": "2018-01-26T20:11:43.710043Z",
     "start_time": "2018-01-26T20:11:42.458434Z"
    }
   },
   "outputs": [],
   "source": [
    "from contextlib import contextmanager\n",
    "import sqlite3\n",
    "import typing as T\n",
    "import sys\n",
    "\n",
    "try:\n",
    "    from graphql_example.logging_utilities import *\n",
    "except ModuleNotFoundError:\n",
    "    from logging_utilities import *\n",
    "\n",
    "import aiohttp\n",
    "from aiohttp import web\n",
    "from aiohttp_graphql import GraphQLView\n",
    "\n",
    "from IPython import get_ipython\n",
    "\n",
    "from eliot import (\n",
    "    start_action,\n",
    "    Message,\n",
    "    to_file,\n",
    "    use_asyncio_context\n",
    ")"
   ]
  },
  {
   "cell_type": "code",
   "execution_count": null,
   "metadata": {
    "ExecuteTime": {
     "end_time": "2018-01-26T20:11:43.740606Z",
     "start_time": "2018-01-26T20:11:43.711965Z"
    }
   },
   "outputs": [],
   "source": [
    "# initialize app\n",
    "app = web.Application()\n",
    "routes = web.RouteTableDef()\n",
    "\n",
    "# configure app\n",
    "try:\n",
    "    from graphql_example.on_startup import (\n",
    "    configure_logging,\n",
    "    configure_database,\n",
    "    create_tables,\n",
    "    seed_db\n",
    ")\n",
    "except ModuleNotFoundError:\n",
    "    from on_startup import (\n",
    "        configure_logging,\n",
    "        configure_database,\n",
    "        create_tables,\n",
    "        seed_db\n",
    "    )\n",
    "\n",
    "app.on_startup.append(configure_logging)\n",
    "app.on_startup.append(configure_database)\n",
    "app.on_startup.append(create_tables)\n",
    "app.on_startup.append(seed_db)\n",
    "\n",
    "try:\n",
    "    from graphql_example.on_cleanup import drop_tables, close_db\n",
    "except:\n",
    "    from on_cleanup import drop_tables, close_db\n",
    "\n",
    "\n",
    "app.on_cleanup.append(drop_tables)\n",
    "app.on_cleanup.append(close_db)"
   ]
  },
  {
   "cell_type": "markdown",
   "metadata": {},
   "source": [
    "## Brief aiohttp route/view example w/eliot logging\n",
    "\n",
    "Two simple view coroutines decorated with their routes\n",
    "\n",
    "Note, aiohttp also allows one to add routes and related views without\n",
    "the use of decorators as flask does\n",
    "\n",
    "```python3\n",
    "\n",
    "app.router.add_route('GET', '/', index)\n",
    "# or\n",
    "app.router.add_get('/', index)\n",
    "\n",
    "```\n",
    "\n",
    "This is arguably better, if only because you could see\n",
    "the mapping of all your routes and related views in one\n",
    "place without resorting to programmatically iterate through the\n",
    "route table's resource map"
   ]
  },
  {
   "cell_type": "code",
   "execution_count": null,
   "metadata": {
    "ExecuteTime": {
     "end_time": "2018-01-26T20:11:43.784786Z",
     "start_time": "2018-01-26T20:11:43.744629Z"
    }
   },
   "outputs": [],
   "source": [
    "@routes.get('/')\n",
    "async def index(request):\n",
    "    \"\"\"Redirect to greet route.\"\"\"\n",
    "    with log_request(request):\n",
    "        \n",
    "        url = request.app.router['greet'].url_for(name='you')\n",
    "        \n",
    "        with log_action('redirect', to_url=str(url)):\n",
    "            \n",
    "            return web.HTTPFound(url)\n",
    "\n",
    "\n",
    "@routes.get('/greet/{name}', name='greet')\n",
    "async def greet(request):\n",
    "    \"\"\"Say hello.\"\"\"\n",
    "    with log_request(request):\n",
    "        \n",
    "        name = request.match_info['name']\n",
    "        \n",
    "        response = web.Response(\n",
    "                text=f'<html><h2>Hello {name}!</h2><html>',\n",
    "                content_type='Content-Type: text/html'\n",
    "            )\n",
    "                \n",
    "        with log_response(response):\n",
    "            \n",
    "            return response"
   ]
  },
  {
   "cell_type": "markdown",
   "metadata": {},
   "source": [
    "## The domain model"
   ]
  },
  {
   "cell_type": "code",
   "execution_count": null,
   "metadata": {
    "ExecuteTime": {
     "end_time": "2018-01-26T20:11:43.818081Z",
     "start_time": "2018-01-26T20:11:43.787595Z"
    }
   },
   "outputs": [],
   "source": [
    "import typing as T\n",
    "from datetime import date as Date\n",
    "\n",
    "# the PEP 557 future is now\n",
    "from attr import dataclass\n",
    "\n",
    "\n",
    "@dataclass\n",
    "class Author:\n",
    "    first_name: str\n",
    "    last_name: str\n",
    "    age: int\n",
    "    books: T.Optional[T.List['Book']]\n",
    "\n",
    "\n",
    "@dataclass\n",
    "class Book:\n",
    "    title: str\n",
    "    author: Author\n",
    "    published: Date"
   ]
  },
  {
   "cell_type": "markdown",
   "metadata": {},
   "source": [
    "# Rest views"
   ]
  },
  {
   "cell_type": "code",
   "execution_count": null,
   "metadata": {
    "ExecuteTime": {
     "end_time": "2018-01-26T20:11:43.953956Z",
     "start_time": "2018-01-26T20:11:43.822843Z"
    }
   },
   "outputs": [],
   "source": [
    "try:\n",
    "    from graphql_example.db_queries import fetch_authors, fetch_books\n",
    "except ModuleNotFoundError:\n",
    "    from db_queries import fetch_authors, fetch_books\n",
    "\n",
    "@routes.get('/rest/author')\n",
    "async def author(request):\n",
    "    connection = request.app['connection']\n",
    "\n",
    "    with log_request(request):\n",
    "\n",
    "        # parse values from query params\n",
    "\n",
    "        id = None or int(request.query.get('id', 0))\n",
    "        first_name = request.query.get('first_name')\n",
    "        last_name = request.query.get('last_name')\n",
    "        age = None or int(request.query.get('age', 0))\n",
    "        limit = int(request.query.get('limit', 0))\n",
    "\n",
    "        authors = fetch_authors(\n",
    "            request.app['connection'],\n",
    "            id=id,\n",
    "            first_name=first_name,\n",
    "            last_name=last_name,\n",
    "            age=age,\n",
    "            limit=limit)\n",
    "\n",
    "        response = web.json_response(authors)\n",
    "\n",
    "        with log_response(response):\n",
    "\n",
    "            return response\n",
    "\n",
    "\n",
    "@routes.get('/rest/book')\n",
    "async def book(request):\n",
    "    connection = request.app['connection']\n",
    "\n",
    "    with log_request(request):\n",
    "\n",
    "        # parse values from query params\n",
    "\n",
    "        id = None or int(request.query.get('id', 0))\n",
    "        published = request.query.get('published')\n",
    "        author_id = request.query.get('author_id')\n",
    "        limit = int(request.query.get('limit', 0))\n",
    "\n",
    "        # build sql query\n",
    "\n",
    "        books = fetch_books(\n",
    "            request.app['connection'],\n",
    "            id=id,\n",
    "            published=published,\n",
    "            author_id=author_id,\n",
    "            limit=limit\n",
    "        )\n",
    "\n",
    "        response = web.json_response(books)\n",
    "\n",
    "        with log_response(response):\n",
    "\n",
    "            return response"
   ]
  },
  {
   "cell_type": "markdown",
   "metadata": {},
   "source": [
    "## graphql schema definition"
   ]
  },
  {
   "cell_type": "code",
   "execution_count": null,
   "metadata": {
    "ExecuteTime": {
     "end_time": "2018-01-26T20:11:44.012774Z",
     "start_time": "2018-01-26T20:11:43.957070Z"
    }
   },
   "outputs": [],
   "source": [
    "try:\n",
    "    from graphql_example.domain_model import Author as AuthorModel\n",
    "    from graphql_example.domain_model import Book as BookModel\n",
    "except ModuleNotFoundError:\n",
    "    from domain_model import Author as AuthorModel\n",
    "    from domain_model import Book as BookModel\n",
    "\n",
    "import graphene\n",
    "\n",
    "\n",
    "class Author(graphene.ObjectType):\n",
    "    pass\n",
    "    \n",
    "\n",
    "\n",
    "class Query(graphene.ObjectType):\n",
    "    hello = graphene.String(description='A typical hello world')\n",
    "\n",
    "    def resolve_hello(self, info):\n",
    "        return 'World'\n",
    "\n",
    "schema = graphene.Schema(query=Query)\n",
    "\n",
    "query = '''\n",
    "    query SayHello {\n",
    "      hello\n",
    "    }\n",
    "'''\n",
    "\n",
    "dict(schema.execute(query).data)"
   ]
  },
  {
   "cell_type": "markdown",
   "metadata": {},
   "source": [
    "## graphql route/view"
   ]
  },
  {
   "cell_type": "code",
   "execution_count": null,
   "metadata": {
    "ExecuteTime": {
     "end_time": "2018-01-26T20:11:44.026713Z",
     "start_time": "2018-01-26T20:11:44.016308Z"
    }
   },
   "outputs": [],
   "source": [
    "gql_view = GraphQLView(schema=schema, graphiql=True)\n",
    "\n",
    "app.router.add_route('*', '/graphql', gql_view, name='graphql')"
   ]
  },
  {
   "cell_type": "code",
   "execution_count": null,
   "metadata": {
    "ExecuteTime": {
     "end_time": "2018-01-26T20:13:20.058567Z",
     "start_time": "2018-01-26T20:11:44.029437Z"
    }
   },
   "outputs": [],
   "source": [
    "# add routes from decorators\n",
    "app.router.add_routes(routes)\n",
    "\n",
    "if __name__ == '__main__':\n",
    "    \n",
    "    #stdout_destination = to_file(sys.stdout)\n",
    "    \n",
    "    web.run_app(app, host='127.0.0.1', port=8080)\n"
   ]
  },
  {
   "cell_type": "code",
   "execution_count": null,
   "metadata": {},
   "outputs": [],
   "source": []
  }
 ],
 "metadata": {
  "hide_input": false,
  "kernelspec": {
   "display_name": "Python 3",
   "language": "python",
   "name": "python3"
  },
  "language_info": {
   "codemirror_mode": {
    "name": "ipython",
    "version": 3
   },
   "file_extension": ".py",
   "mimetype": "text/x-python",
   "name": "python",
   "nbconvert_exporter": "python",
   "pygments_lexer": "ipython3",
   "version": "3.6.4"
  }
 },
 "nbformat": 4,
 "nbformat_minor": 2
}
